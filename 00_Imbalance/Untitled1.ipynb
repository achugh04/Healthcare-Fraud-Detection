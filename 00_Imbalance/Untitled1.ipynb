{
 "cells": [
  {
   "cell_type": "code",
   "execution_count": null,
   "id": "b6672e1c-dba2-4b50-9e72-1bb11a3447a3",
   "metadata": {},
   "outputs": [],
   "source": [
    "from tgan.data import load_demo_data"
   ]
  },
  {
   "cell_type": "code",
   "execution_count": 1,
   "id": "8e853fbd-b02c-45f1-9315-5c9f23e97545",
   "metadata": {},
   "outputs": [
    {
     "ename": "SyntaxError",
     "evalue": "invalid syntax (1243870767.py, line 1)",
     "output_type": "error",
     "traceback": [
      "\u001b[0;36m  File \u001b[0;32m\"/var/folders/rx/7m_b1g5d0fqfd9ks3y45tjs40000gn/T/ipykernel_1084/1243870767.py\"\u001b[0;36m, line \u001b[0;32m1\u001b[0m\n\u001b[0;31m    conda install numpy\u001b[0m\n\u001b[0m                ^\u001b[0m\n\u001b[0;31mSyntaxError\u001b[0m\u001b[0;31m:\u001b[0m invalid syntax\n"
     ]
    }
   ],
   "source": [
    "conda install numpy \n",
    "conda install -c intel mkl"
   ]
  },
  {
   "cell_type": "code",
   "execution_count": null,
   "id": "756a5bbf-322b-40ad-b7af-921288c308c9",
   "metadata": {},
   "outputs": [],
   "source": [
    "from tgan.model import TGANModel\n",
    "\n"
   ]
  },
  {
   "cell_type": "code",
   "execution_count": null,
   "id": "9371b73b-2c8d-47f6-aedc-e8cff960a9c2",
   "metadata": {},
   "outputs": [],
   "source": [
    "tgan = TGANModel(\n",
    "    continuous_columns,\n",
    "    output='output',\n",
    "    gpu=None,\n",
    "    max_epoch=5,\n",
    "    steps_per_epoch=100,\n",
    "    save_checkpoints=True,\n",
    "    restore_session=True,\n",
    "    batch_size=100,\n",
    "    z_dim=200,\n",
    "    noise=0.2,\n",
    "    l2norm=0.00001,\n",
    "    learning_rate=0.001,\n",
    "    num_gen_rnn=100,\n",
    "    num_gen_feature=100,\n",
    "    num_dis_layers=1,\n",
    "    num_dis_hidden=100,\n",
    "    optimizer='AdamOptimizer'\n",
    ")"
   ]
  }
 ],
 "metadata": {
  "kernelspec": {
   "display_name": "Python 3 (ipykernel)",
   "language": "python",
   "name": "python3"
  },
  "language_info": {
   "codemirror_mode": {
    "name": "ipython",
    "version": 3
   },
   "file_extension": ".py",
   "mimetype": "text/x-python",
   "name": "python",
   "nbconvert_exporter": "python",
   "pygments_lexer": "ipython3",
   "version": "3.9.7"
  }
 },
 "nbformat": 4,
 "nbformat_minor": 5
}
